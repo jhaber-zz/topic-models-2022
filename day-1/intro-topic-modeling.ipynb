{
 "cells": [
  {
   "cell_type": "markdown",
   "metadata": {},
   "source": [
    "# Introduction to Topic Modeling\n",
    "---\n",
    "---"
   ]
  },
  {
   "cell_type": "markdown",
   "metadata": {},
   "source": [
    "## Learning goals\n",
    "### Version A\n",
    "* Implement a basic topic modeling algorithm and learn how to tweak it\n",
    "* Learn how to use different methods to calculate topic prevalence\n",
    "* Learn how to create some simple graphs with this output\n",
    "* Think through how and why you might use topic modeling in a text analysis project\n",
    "\n",
    "### Version B\n",
    "\n",
    "* Understand the DTM and why it's important to text analysis\n",
    "* Learn how to create a DTM in Python\n",
    "* Learn basic functionality of Python's package scikit-learn\n",
    "* Understand tf-idf scores\n",
    "* Learn a simple way to identify distinctive words\n",
    "* Implement a basic topic modeling algorithm and learn how to tweak it\n",
    "* In the process, gain more familiarity and comfort with the Pandas package and manipulating data\n",
    "\n",
    "\n",
    "## Outline\n",
    "- What is Topic Modelling?\n",
    "- The Pandas Dataframe: Music Reviews\n",
    "    - Exploratory data analysis\n",
    "- Text preprocessing\n",
    "- Fit an LDA Topic Model using scikit-learn\n",
    "- Document by Topic Distribution\n",
    "- Words Aligned with each Topic\n",
    "- Topic Prevalence\n",
    "- Topics Over Time\n",
    "\n",
    "## Key terms\n",
    "* *Document Term Matrix*:\n",
    "    * a matrix that describes the frequency of terms that occur in a collection of documents. In a document-term matrix, rows correspond to documents in the collection and columns correspond to terms.\n",
    "* *TF-IDF Scores*: \n",
    "    * short for term frequency–inverse document frequency, is a numerical statistic that is intended to reflect how important a word is to a document in a collection or corpus.\n",
    "* *Topic Modeling*:\n",
    "    * A statistical model to uncover abstract topics within a text. It uses the co-occurrence fo words within documents, compared to their distribution across documents, to uncover these abstract themes. The output is a list of weighted words, which indicate the subject of each topic, and a weight distribution across topics for each document.\n",
    "    \n",
    "* *LDA*:\n",
    "    * Latent Dirichlet Allocation. A implementation of topic modeling that assumes a Dirichlet prior. It does not take document order into account, unlike other topic modeling algorithms."
   ]
  },
  {
   "cell_type": "markdown",
   "metadata": {},
   "source": [
    "## What is Topic Modelling?\n",
    "\n",
    "Topic modelling is a _distant reading_ technique for finding structure in large collections of text, without actually reading everything by eye. If you have hundreds or thousands of documents and want to understand roughly what your corpus contains, then topic modelling may be for you.\n",
    "\n",
    "A topic modelling program finds the words that appear frequently together in a document and groups them together to form **topics**, which are mixtures of words that characterize the document's themes or underlying ideas. For example, one topic of this [Wikipedia article on black holes](https://en.wikipedia.org/wiki/Black_hole) is:\n",
    "\n",
    "* black, hole, mass, star\n",
    "\n",
    "![First picture of a supermassive black hole, captured in 2019](https://upload.wikimedia.org/wikipedia/commons/thumb/c/cf/Black_hole_-_Messier_87.jpg/320px-Black_hole_-_Messier_87.jpg \"First picture of a supermassive black hole, captured in 2019\")\n",
    "\n",
    "Not too surprising, but this topic does seem accurate on the face of it. What about a document that we are less familiar with? Here is a topic of a [speech made by John F. Kennedy at Rice University in 1962](https://er.jsc.nasa.gov/seh/ricetalk.htm):\n",
    "\n",
    "* space, new, year, man\n",
    "\n",
    "![Charles Conrad Jr., Apollo 12 Commander, examines the unmanned Surveyor III spacecraft on the Moon](https://upload.wikimedia.org/wikipedia/commons/thumb/4/4e/Surveyor_3-Apollo_12.jpg/274px-Surveyor_3-Apollo_12.jpg \"Charles Conrad Jr., Apollo 12 Commander, examines the unmanned Surveyor III spacecraft on the Moon\")\n",
    "\n",
    "This is Kennedy's famous 'we choose to go to the moon' speech. Notice that 'moon' is not in this topic; but the speech does cover the history of humankind's (\"man's\") endeavours and emphasises a forward-looking perspective (the \"new\"-ness of advancements).\n",
    "\n",
    "From these simplified examples, we can see that human intervention is still required to interpret what topics might 'mean'. Topic modelling is not magic; it is a tool that requires informed use and careful review, just like any other.\n",
    "\n",
    "In the humanities, topic modelling may be used to support different approaches to large text corpora, such as:\n",
    "\n",
    "* Survey a collection that is too big to read closely, e.g. [Computational Historiography: Data Mining in a Century of Classics Journals](http://www.perseus.tufts.edu/publications/02-jocch-mimno.pdf) (PDF)\n",
    "* Look at thematic trends over time in an archive, e.g. [Topic Modeling Martha Ballard's Diary](http://www.cameronblevins.org/posts/topic-modeling-martha-ballards-diary/)\n",
    "* Create metadata for an archive to improve accessibility, e.g. [Topic modelling for the valorisation of digitised archives of the European Commission](https://ieeexplore.ieee.org/abstract/document/7840981)\n",
    "* Understand current trends in social media relevant to your discipline, e.g. [Mining the Open Web with ‘Looted Heritage’](https://electricarchaeology.ca/2012/06/08/mining-the-open-web-with-looted-heritage-draft/)"
   ]
  },
  {
   "cell_type": "markdown",
   "metadata": {},
   "source": [
    "### How LDA works (briefly) <a id='mechanics'></a>\n",
    "\n",
    "We'll implement the original and simplest topic modeling algorithm, Latent Dirichlet Allocation (or LDA), using Python's scikit-learn. There is a lot to learn about topic modeling, but the focus here to give you starter code to run a simple model and expand on it yourself later. To give a little more mathematical context, though, here are the mechanics of this version of topic modelling. \n",
    "\n",
    "LDA is a generative model - a model of the data-generating process - in which a document is a mixture of topics and topics are probability distributions over tokens in the vocabulary. The (normalized) frequency of word $j$ in document $i$ can be written as:\n",
    "$q_{ij} = v_{i1}*\\theta_{1j} + v_{i2}*\\theta_{2j} + ... + v_{iK}*\\theta_{Kj}$\n",
    "where K is the total number of topics, $\\theta_{kj}$ is the probability that word $j$ shows up in topic $k$ and $v_{ik}$ is the weight assigned to topic $k$ in document $i$. The model treats $v$ and $\\theta$ as generated from Dirichlet-distributed priors and can be estimated through Maximum Likelihood or Bayesian methods.\n",
    "\n",
    "$^1$ Reference: Blei, D. M., A. Y. Ng, and M. I. Jordan (2003). Latent Dirichlet allocation. Journal of Machine\n",
    "Learning Research 3, 993–1022."
   ]
  },
  {
   "cell_type": "markdown",
   "metadata": {},
   "source": [
    "## Resources and alternatives\n",
    "\n",
    "In addition to LDA in `scikit-learn`, there are a few other common tools for topic modelling in Python:\n",
    "- [Here's a detailed example of using LDA in scikit-learn](https://scikit-learn.org/stable/auto_examples/applications/plot_topics_extraction_with_nmf_lda.html#sphx-glr-auto-examples-applications-plot-topics-extraction-with-nmf-lda-py), including several alternatives (like NMF) we won't explore.\n",
    "- The other major topic modeling package is [Gensim](https://radimrehurek.com/gensim/). \n",
    "- Another option is [textacy](https://textacy.readthedocs.io/en/latest/), which is built on the powerful spaCy library for text manipulation ([example implementation](https://github.com/repmax/topic-model/blob/master/topic-modelling.ipynb)).\n",
    "\n",
    "Another well-known tool for topic modelling is called [MALLET](http://mallet.cs.umass.edu/topics.php), which is a program (written in Java) that you download to your computer. You have to type commands to use MALLET, but it has otherwise done a great deal for you. \n",
    "- [Getting Started with Topic Modeling and MALLET](https://programminghistorian.org/en/lessons/topic-modeling-and-mallet) from Programming Historian gives a step-by-step tutorial on MALLET.\n",
    "- There is a graphical interface for MALLET called [Topic Modeling Tool](https://github.com/senderle/topic-modeling-tool) that is a bit easier to use. The [Quickstart Guide](https://senderle.github.io/topic-modeling-tool/documentation/2017/01/06/quickstart.html) will get you up and running.\n",
    "\n",
    "If you are looking to use R rather than Python, then `tidytext` is a popular NLP library that will help you work with the `topicmodels` package. \n",
    "- The book _Text Mining with R_ devotes [chapter 6](https://www.tidytextmining.com/topicmodeling.html) to tidytext.\n",
    "\n",
    "Finally, if coding isn't your thing, you can explore the topics of a few documents in a casual way with the online digital text environment [Voyant Tools](https://voyant-tools.org/), which allows you to upload or copy-and-paste texts and explore a corpus with a number of graphical tools, including topics.\n",
    "\n",
    "---\n",
    "---"
   ]
  },
  {
   "cell_type": "markdown",
   "metadata": {},
   "source": [
    "## How to join in with coding\n",
    "\n",
    "* **Edit** any cell and try changing the code, or delete it and write your own.\n",
    "\n",
    "* Before running a cell, try to **guess** what the output will be by thinking through what will happen.\n",
    "\n",
    "* If you encounter an **error**, realise this is normal. Errors happen all the time and by reading the error message you will learn something new.\n",
    "\n",
    "* Remember: you cannot break the notebook or your computer, so **don't be afraid to experiment**.\n",
    "\n",
    "**Let's get coding!**\n",
    "\n",
    "---\n",
    "---"
   ]
  },
  {
   "cell_type": "markdown",
   "metadata": {},
   "source": [
    "## The Pandas Dataframe: Children's Literature\n",
    "\n",
    "As our toy dataset, let's use a database of children's literature from the 19th century. The data were compiled by students in [this course](http://english197s2015.pbworks.com/w/page/93127947/FrontPage) and have been minimally cleaned for our use. The data and other corpora can be [found here](http://dhresourcesforprojectbuilding.pbworks.com/w/page/69244469/Data%20Collections%20and%20Datasets#demo-corpora), feel free to explore that data and play with it using text analysis!\n",
    "\n",
    "First, we read our corpus into a Pandas dataframe. The file is stored as a compressed .csv file in the `day-1/` folder, so we tell Pandas the compression type (`.bz2`) so it can unpack and read it for us."
   ]
  },
  {
   "cell_type": "code",
   "execution_count": 32,
   "metadata": {
    "scrolled": true
   },
   "outputs": [
    {
     "data": {
      "text/html": [
       "<div>\n",
       "<style scoped>\n",
       "    .dataframe tbody tr th:only-of-type {\n",
       "        vertical-align: middle;\n",
       "    }\n",
       "\n",
       "    .dataframe tbody tr th {\n",
       "        vertical-align: top;\n",
       "    }\n",
       "\n",
       "    .dataframe thead th {\n",
       "        text-align: right;\n",
       "    }\n",
       "</style>\n",
       "<table border=\"1\" class=\"dataframe\">\n",
       "  <thead>\n",
       "    <tr style=\"text-align: right;\">\n",
       "      <th></th>\n",
       "      <th>title</th>\n",
       "      <th>author gender</th>\n",
       "      <th>year</th>\n",
       "      <th>text</th>\n",
       "    </tr>\n",
       "  </thead>\n",
       "  <tbody>\n",
       "    <tr>\n",
       "      <th>0</th>\n",
       "      <td>A Dog with a Bad Name</td>\n",
       "      <td>Male</td>\n",
       "      <td>1886</td>\n",
       "      <td>A DOG WITH A BAD NAME  BY TALBOT BAINES REED  ...</td>\n",
       "    </tr>\n",
       "    <tr>\n",
       "      <th>1</th>\n",
       "      <td>A Final Reckoning</td>\n",
       "      <td>Male</td>\n",
       "      <td>1887</td>\n",
       "      <td>A Final Reckoning: A Tale of Bush Life in Aust...</td>\n",
       "    </tr>\n",
       "    <tr>\n",
       "      <th>2</th>\n",
       "      <td>A House Party, Don Gesualdo, and A Rainy June</td>\n",
       "      <td>Female</td>\n",
       "      <td>1887</td>\n",
       "      <td>A HOUSE-PARTY  Don Gesualdo  and  A Rainy June...</td>\n",
       "    </tr>\n",
       "    <tr>\n",
       "      <th>3</th>\n",
       "      <td>A Houseful of Girls</td>\n",
       "      <td>Female</td>\n",
       "      <td>1889</td>\n",
       "      <td>A HOUSEFUL OF GIRLS. BY SARAH TYTLER,  AUTHOR ...</td>\n",
       "    </tr>\n",
       "    <tr>\n",
       "      <th>4</th>\n",
       "      <td>A Little Country Girl</td>\n",
       "      <td>Female</td>\n",
       "      <td>1885</td>\n",
       "      <td>LITTLE COUNTRY GIRL.  BY  SUSAN COOLIDGE,     ...</td>\n",
       "    </tr>\n",
       "    <tr>\n",
       "      <th>...</th>\n",
       "      <td>...</td>\n",
       "      <td>...</td>\n",
       "      <td>...</td>\n",
       "      <td>...</td>\n",
       "    </tr>\n",
       "    <tr>\n",
       "      <th>127</th>\n",
       "      <td>Up the River</td>\n",
       "      <td>Male</td>\n",
       "      <td>1881</td>\n",
       "      <td>UP THE RIVER  OR  YACHTING ON THE MISSISSIPPI ...</td>\n",
       "    </tr>\n",
       "    <tr>\n",
       "      <th>128</th>\n",
       "      <td>What Katy Did Next</td>\n",
       "      <td>Female</td>\n",
       "      <td>1886</td>\n",
       "      <td>WHAT KATY DID NEXT  BY  SUSAN COOLIDGE    This...</td>\n",
       "    </tr>\n",
       "    <tr>\n",
       "      <th>129</th>\n",
       "      <td>Winning His Spurs</td>\n",
       "      <td>Male</td>\n",
       "      <td>1882</td>\n",
       "      <td>WINNING HIS SPURS            ...</td>\n",
       "    </tr>\n",
       "    <tr>\n",
       "      <th>130</th>\n",
       "      <td>With Clive in India</td>\n",
       "      <td>Male</td>\n",
       "      <td>1884</td>\n",
       "      <td>WITH CLIVE IN INDIA:  Or, The Beginnings of an...</td>\n",
       "    </tr>\n",
       "    <tr>\n",
       "      <th>131</th>\n",
       "      <td>With Wolfe in Canada</td>\n",
       "      <td>Male</td>\n",
       "      <td>1887</td>\n",
       "      <td>\\n WITH WOLFE IN CANADA  Or The Winning of a C...</td>\n",
       "    </tr>\n",
       "  </tbody>\n",
       "</table>\n",
       "<p>127 rows × 4 columns</p>\n",
       "</div>"
      ],
      "text/plain": [
       "                                             title author gender  year  \\\n",
       "0                            A Dog with a Bad Name          Male  1886   \n",
       "1                                A Final Reckoning          Male  1887   \n",
       "2    A House Party, Don Gesualdo, and A Rainy June        Female  1887   \n",
       "3                              A Houseful of Girls        Female  1889   \n",
       "4                            A Little Country Girl        Female  1885   \n",
       "..                                             ...           ...   ...   \n",
       "127                                   Up the River          Male  1881   \n",
       "128                             What Katy Did Next        Female  1886   \n",
       "129                              Winning His Spurs          Male  1882   \n",
       "130                            With Clive in India          Male  1884   \n",
       "131                           With Wolfe in Canada          Male  1887   \n",
       "\n",
       "                                                  text  \n",
       "0    A DOG WITH A BAD NAME  BY TALBOT BAINES REED  ...  \n",
       "1    A Final Reckoning: A Tale of Bush Life in Aust...  \n",
       "2    A HOUSE-PARTY  Don Gesualdo  and  A Rainy June...  \n",
       "3    A HOUSEFUL OF GIRLS. BY SARAH TYTLER,  AUTHOR ...  \n",
       "4    LITTLE COUNTRY GIRL.  BY  SUSAN COOLIDGE,     ...  \n",
       "..                                                 ...  \n",
       "127  UP THE RIVER  OR  YACHTING ON THE MISSISSIPPI ...  \n",
       "128  WHAT KATY DID NEXT  BY  SUSAN COOLIDGE    This...  \n",
       "129                   WINNING HIS SPURS            ...  \n",
       "130  WITH CLIVE IN INDIA:  Or, The Beginnings of an...  \n",
       "131  \\n WITH WOLFE IN CANADA  Or The Winning of a C...  \n",
       "\n",
       "[127 rows x 4 columns]"
      ]
     },
     "execution_count": 32,
     "metadata": {},
     "output_type": "execute_result"
    }
   ],
   "source": [
    "import pandas as pd\n",
    "import numpy as np\n",
    "df_lit = pd.read_csv(\"data/childrens_lit.csv.bz2\", sep='\\t', index_col=0, encoding = 'utf-8', compression='bz2')\n",
    "\n",
    "#drop rows where the text is missing.\n",
    "df_lit = df_lit.dropna(subset=['text'])\n",
    "\n",
    "#view the dataframe\n",
    "df_lit"
   ]
  },
  {
   "cell_type": "markdown",
   "metadata": {},
   "source": [
    "### Explore the data"
   ]
  },
  {
   "cell_type": "markdown",
   "metadata": {},
   "source": [
    "Let's look at some descriptive statistics about this dataset, to get a feel for what's in it and check for any visible errors. This will help with interpreting the data and knowing what kinds of questions to ask. \n",
    "\n",
    "The first thing most people do is to `describe` their data. (This is the `summary` command in R, or the `sum` command in Stata)."
   ]
  },
  {
   "cell_type": "code",
   "execution_count": 33,
   "metadata": {},
   "outputs": [
    {
     "data": {
      "text/html": [
       "<div>\n",
       "<style scoped>\n",
       "    .dataframe tbody tr th:only-of-type {\n",
       "        vertical-align: middle;\n",
       "    }\n",
       "\n",
       "    .dataframe tbody tr th {\n",
       "        vertical-align: top;\n",
       "    }\n",
       "\n",
       "    .dataframe thead th {\n",
       "        text-align: right;\n",
       "    }\n",
       "</style>\n",
       "<table border=\"1\" class=\"dataframe\">\n",
       "  <thead>\n",
       "    <tr style=\"text-align: right;\">\n",
       "      <th></th>\n",
       "      <th>year</th>\n",
       "    </tr>\n",
       "  </thead>\n",
       "  <tbody>\n",
       "    <tr>\n",
       "      <th>count</th>\n",
       "      <td>127.000000</td>\n",
       "    </tr>\n",
       "    <tr>\n",
       "      <th>mean</th>\n",
       "      <td>1885.110236</td>\n",
       "    </tr>\n",
       "    <tr>\n",
       "      <th>std</th>\n",
       "      <td>2.752281</td>\n",
       "    </tr>\n",
       "    <tr>\n",
       "      <th>min</th>\n",
       "      <td>1880.000000</td>\n",
       "    </tr>\n",
       "    <tr>\n",
       "      <th>25%</th>\n",
       "      <td>1883.000000</td>\n",
       "    </tr>\n",
       "    <tr>\n",
       "      <th>50%</th>\n",
       "      <td>1886.000000</td>\n",
       "    </tr>\n",
       "    <tr>\n",
       "      <th>75%</th>\n",
       "      <td>1887.000000</td>\n",
       "    </tr>\n",
       "    <tr>\n",
       "      <th>max</th>\n",
       "      <td>1889.000000</td>\n",
       "    </tr>\n",
       "  </tbody>\n",
       "</table>\n",
       "</div>"
      ],
      "text/plain": [
       "              year\n",
       "count   127.000000\n",
       "mean   1885.110236\n",
       "std       2.752281\n",
       "min    1880.000000\n",
       "25%    1883.000000\n",
       "50%    1886.000000\n",
       "75%    1887.000000\n",
       "max    1889.000000"
      ]
     },
     "execution_count": 33,
     "metadata": {},
     "output_type": "execute_result"
    }
   ],
   "source": [
    "#There's only one numeric column in our data ('year'), so we only get one column for output.\n",
    "df_lit.describe()"
   ]
  },
  {
   "cell_type": "code",
   "execution_count": 34,
   "metadata": {},
   "outputs": [
    {
     "data": {
      "text/plain": [
       "<AxesSubplot:>"
      ]
     },
     "execution_count": 34,
     "metadata": {},
     "output_type": "execute_result"
    },
    {
     "data": {
      "image/png": "[encoded data removed]",
      "text/plain": [
       "<Figure size 432x288 with 1 Axes>"
      ]
     },
     "metadata": {
      "needs_background": "light"
     },
     "output_type": "display_data"
    }
   ],
   "source": [
    "#Visualize the distribution of the 'year' column\n",
    "import matplotlib\n",
    "df_lit['year'].hist(bins = 10, grid=False)"
   ]
  },
  {
   "cell_type": "markdown",
   "metadata": {},
   "source": [
    "What's the breakdown of author genders in this dataset?"
   ]
  },
  {
   "cell_type": "code",
   "execution_count": 35,
   "metadata": {},
   "outputs": [
    {
     "data": {
      "text/plain": [
       "Male      99\n",
       "Female    28\n",
       "Name: author gender, dtype: int64"
      ]
     },
     "execution_count": 35,
     "metadata": {},
     "output_type": "execute_result"
    }
   ],
   "source": [
    "#We can count this using the value_counts() function\n",
    "df_lit['author gender'].value_counts()"
   ]
  },
  {
   "cell_type": "code",
   "execution_count": 36,
   "metadata": {},
   "outputs": [
    {
     "data": {
      "text/html": [
       "<div>\n",
       "<style scoped>\n",
       "    .dataframe tbody tr th:only-of-type {\n",
       "        vertical-align: middle;\n",
       "    }\n",
       "\n",
       "    .dataframe tbody tr th {\n",
       "        vertical-align: top;\n",
       "    }\n",
       "\n",
       "    .dataframe thead th {\n",
       "        text-align: right;\n",
       "    }\n",
       "</style>\n",
       "<table border=\"1\" class=\"dataframe\">\n",
       "  <thead>\n",
       "    <tr style=\"text-align: right;\">\n",
       "      <th></th>\n",
       "      <th>title</th>\n",
       "      <th>author gender</th>\n",
       "      <th>text</th>\n",
       "    </tr>\n",
       "  </thead>\n",
       "  <tbody>\n",
       "    <tr>\n",
       "      <th>count</th>\n",
       "      <td>127</td>\n",
       "      <td>127</td>\n",
       "      <td>127</td>\n",
       "    </tr>\n",
       "    <tr>\n",
       "      <th>unique</th>\n",
       "      <td>127</td>\n",
       "      <td>2</td>\n",
       "      <td>127</td>\n",
       "    </tr>\n",
       "    <tr>\n",
       "      <th>top</th>\n",
       "      <td>The Bravest of the Brave</td>\n",
       "      <td>Male</td>\n",
       "      <td>QUICKSILVER; OR, THE BOY WITH NO SKID TO HIS W...</td>\n",
       "    </tr>\n",
       "    <tr>\n",
       "      <th>freq</th>\n",
       "      <td>1</td>\n",
       "      <td>99</td>\n",
       "      <td>1</td>\n",
       "    </tr>\n",
       "  </tbody>\n",
       "</table>\n",
       "</div>"
      ],
      "text/plain": [
       "                           title author gender  \\\n",
       "count                        127           127   \n",
       "unique                       127             2   \n",
       "top     The Bravest of the Brave          Male   \n",
       "freq                           1            99   \n",
       "\n",
       "                                                     text  \n",
       "count                                                 127  \n",
       "unique                                                127  \n",
       "top     QUICKSILVER; OR, THE BOY WITH NO SKID TO HIS W...  \n",
       "freq                                                    1  "
      ]
     },
     "execution_count": 36,
     "metadata": {},
     "output_type": "execute_result"
    }
   ],
   "source": [
    "#This only gets us numerical summaries. To get summaries of some of the other columns, we can explicitly ask for it.\n",
    "df_lit.describe(include=['O'])"
   ]
  },
  {
   "cell_type": "markdown",
   "metadata": {},
   "source": [
    "What kind of titles do these books have?"
   ]
  },
  {
   "cell_type": "code",
   "execution_count": 37,
   "metadata": {},
   "outputs": [
    {
     "data": {
      "text/plain": [
       "The Bravest of the Brave                         1\n",
       "The Gold of Fairnilee                            1\n",
       "Kate's Ordeal                                    1\n",
       "A House Party, Don Gesualdo, and A Rainy June    1\n",
       "Polly: A New Fashioned Girl                      1\n",
       "Sara Crewe                                       1\n",
       "Bonnie Prince Charlie                            1\n",
       "Captain Bayley's Heir                            1\n",
       "The Crew of the Water Wagtail                    1\n",
       "Taken by the Enemy                               1\n",
       "Name: title, dtype: int64"
      ]
     },
     "execution_count": 37,
     "metadata": {},
     "output_type": "execute_result"
    }
   ],
   "source": [
    "df_lit['title'].value_counts().head(10)"
   ]
  },
  {
   "cell_type": "markdown",
   "metadata": {},
   "source": [
    "What is the average year for each author gender? To answer this question, we use the powerful `groupby` function in Pandas. (Similar to `collapse` on Stata)"
   ]
  },
  {
   "cell_type": "code",
   "execution_count": 38,
   "metadata": {},
   "outputs": [
    {
     "data": {
      "text/plain": [
       "author gender\n",
       "Female    1885.250000\n",
       "Male      1885.070707\n",
       "Name: year, dtype: float64"
      ]
     },
     "execution_count": 38,
     "metadata": {},
     "output_type": "execute_result"
    }
   ],
   "source": [
    "books_grouped_by_gender = df_lit.groupby(\"author gender\")\n",
    "books_grouped_by_gender['year'].mean().sort_values(ascending=False)"
   ]
  },
  {
   "cell_type": "markdown",
   "metadata": {},
   "source": [
    "## Text preprocessing\n",
    "\n",
    "Before modeling, we need to preprocess the data, or turn the text into numbers that can be modeled. Let's use the `CountVectorizer` function from `scikit-learn`, which transforms the text into a Document-Term Matrix (DTM), where each text is a row and each word is a column. This is also called Term Frequency (TF) weighting, representing each text by its word counts--probably the most straightforward method of preparing text data."
   ]
  },
  {
   "cell_type": "code",
   "execution_count": 44,
   "metadata": {},
   "outputs": [
    {
     "name": "stdout",
     "output_type": "stream",
     "text": [
      "Extracting tf features for LDA...\n",
      "Done!\n"
     ]
    }
   ],
   "source": [
    "from sklearn.feature_extraction.text import CountVectorizer\n",
    "\n",
    "# Vectorize our text using CountVectorizer\n",
    "print(\"Extracting tf features for LDA...\")\n",
    "tf_vectorizer = CountVectorizer(max_df=0.80, min_df=50,\n",
    "                                max_features=None,\n",
    "                                stop_words='english'\n",
    "                                )\n",
    "\n",
    "sparse_dtm = tf_vectorizer.fit_transform(df_lit.text)\n",
    "print(\"Done!\")"
   ]
  },
  {
   "cell_type": "markdown",
   "metadata": {},
   "source": [
    "Let's take a look at the DTM we just made."
   ]
  },
  {
   "cell_type": "code",
   "execution_count": 40,
   "metadata": {},
   "outputs": [
    {
     "data": {
      "text/plain": [
       "<127x3197 sparse matrix of type '<class 'numpy.int64'>'\n",
       "\twith 229602 stored elements in Compressed Sparse Row format>"
      ]
     },
     "execution_count": 40,
     "metadata": {},
     "output_type": "execute_result"
    }
   ],
   "source": [
    "sparse_dtm"
   ]
  },
  {
   "cell_type": "markdown",
   "metadata": {},
   "source": [
    "This format is called Compressed Sparse Format. It saves a lot of memory to store the DTM in this format, but it is difficult to look at for a human. For illustration purposes, let's convert this matrix back to a Pandas DataFrame, a more understandable format. For larger datasets, you will have to use the Compressed Sparse Format. "
   ]
  },
  {
   "cell_type": "code",
   "execution_count": 46,
   "metadata": {},
   "outputs": [
    {
     "data": {
      "text/html": [
       "<div>\n",
       "<style scoped>\n",
       "    .dataframe tbody tr th:only-of-type {\n",
       "        vertical-align: middle;\n",
       "    }\n",
       "\n",
       "    .dataframe tbody tr th {\n",
       "        vertical-align: top;\n",
       "    }\n",
       "\n",
       "    .dataframe thead th {\n",
       "        text-align: right;\n",
       "    }\n",
       "</style>\n",
       "<table border=\"1\" class=\"dataframe\">\n",
       "  <thead>\n",
       "    <tr style=\"text-align: right;\">\n",
       "      <th></th>\n",
       "      <th>000</th>\n",
       "      <th>10</th>\n",
       "      <th>20</th>\n",
       "      <th>30</th>\n",
       "      <th>50</th>\n",
       "      <th>_you_</th>\n",
       "      <th>abandoned</th>\n",
       "      <th>ability</th>\n",
       "      <th>abode</th>\n",
       "      <th>abreast</th>\n",
       "      <th>...</th>\n",
       "      <th>yelling</th>\n",
       "      <th>yellow</th>\n",
       "      <th>yells</th>\n",
       "      <th>yer</th>\n",
       "      <th>yield</th>\n",
       "      <th>yielded</th>\n",
       "      <th>yonder</th>\n",
       "      <th>york</th>\n",
       "      <th>youngest</th>\n",
       "      <th>youth</th>\n",
       "    </tr>\n",
       "  </thead>\n",
       "  <tbody>\n",
       "    <tr>\n",
       "      <th>0</th>\n",
       "      <td>0</td>\n",
       "      <td>1</td>\n",
       "      <td>0</td>\n",
       "      <td>1</td>\n",
       "      <td>0</td>\n",
       "      <td>7</td>\n",
       "      <td>0</td>\n",
       "      <td>0</td>\n",
       "      <td>1</td>\n",
       "      <td>0</td>\n",
       "      <td>...</td>\n",
       "      <td>1</td>\n",
       "      <td>1</td>\n",
       "      <td>2</td>\n",
       "      <td>0</td>\n",
       "      <td>0</td>\n",
       "      <td>5</td>\n",
       "      <td>1</td>\n",
       "      <td>23</td>\n",
       "      <td>1</td>\n",
       "      <td>14</td>\n",
       "    </tr>\n",
       "    <tr>\n",
       "      <th>1</th>\n",
       "      <td>0</td>\n",
       "      <td>2</td>\n",
       "      <td>4</td>\n",
       "      <td>1</td>\n",
       "      <td>1</td>\n",
       "      <td>0</td>\n",
       "      <td>2</td>\n",
       "      <td>1</td>\n",
       "      <td>2</td>\n",
       "      <td>2</td>\n",
       "      <td>...</td>\n",
       "      <td>1</td>\n",
       "      <td>0</td>\n",
       "      <td>2</td>\n",
       "      <td>2</td>\n",
       "      <td>0</td>\n",
       "      <td>0</td>\n",
       "      <td>0</td>\n",
       "      <td>0</td>\n",
       "      <td>0</td>\n",
       "      <td>2</td>\n",
       "    </tr>\n",
       "    <tr>\n",
       "      <th>2</th>\n",
       "      <td>0</td>\n",
       "      <td>1</td>\n",
       "      <td>0</td>\n",
       "      <td>0</td>\n",
       "      <td>0</td>\n",
       "      <td>2</td>\n",
       "      <td>0</td>\n",
       "      <td>1</td>\n",
       "      <td>1</td>\n",
       "      <td>0</td>\n",
       "      <td>...</td>\n",
       "      <td>0</td>\n",
       "      <td>6</td>\n",
       "      <td>0</td>\n",
       "      <td>0</td>\n",
       "      <td>0</td>\n",
       "      <td>2</td>\n",
       "      <td>3</td>\n",
       "      <td>0</td>\n",
       "      <td>1</td>\n",
       "      <td>13</td>\n",
       "    </tr>\n",
       "    <tr>\n",
       "      <th>3</th>\n",
       "      <td>0</td>\n",
       "      <td>0</td>\n",
       "      <td>1</td>\n",
       "      <td>0</td>\n",
       "      <td>0</td>\n",
       "      <td>3</td>\n",
       "      <td>3</td>\n",
       "      <td>6</td>\n",
       "      <td>0</td>\n",
       "      <td>0</td>\n",
       "      <td>...</td>\n",
       "      <td>1</td>\n",
       "      <td>2</td>\n",
       "      <td>0</td>\n",
       "      <td>0</td>\n",
       "      <td>1</td>\n",
       "      <td>4</td>\n",
       "      <td>0</td>\n",
       "      <td>0</td>\n",
       "      <td>7</td>\n",
       "      <td>13</td>\n",
       "    </tr>\n",
       "    <tr>\n",
       "      <th>4</th>\n",
       "      <td>0</td>\n",
       "      <td>0</td>\n",
       "      <td>0</td>\n",
       "      <td>0</td>\n",
       "      <td>0</td>\n",
       "      <td>0</td>\n",
       "      <td>0</td>\n",
       "      <td>0</td>\n",
       "      <td>0</td>\n",
       "      <td>1</td>\n",
       "      <td>...</td>\n",
       "      <td>0</td>\n",
       "      <td>16</td>\n",
       "      <td>0</td>\n",
       "      <td>0</td>\n",
       "      <td>1</td>\n",
       "      <td>0</td>\n",
       "      <td>1</td>\n",
       "      <td>4</td>\n",
       "      <td>3</td>\n",
       "      <td>1</td>\n",
       "    </tr>\n",
       "  </tbody>\n",
       "</table>\n",
       "<p>5 rows × 3197 columns</p>\n",
       "</div>"
      ],
      "text/plain": [
       "   000  10  20  30  50  _you_  abandoned  ability  abode  abreast  ...  \\\n",
       "0    0   1   0   1   0      7          0        0      1        0  ...   \n",
       "1    0   2   4   1   1      0          2        1      2        2  ...   \n",
       "2    0   1   0   0   0      2          0        1      1        0  ...   \n",
       "3    0   0   1   0   0      3          3        6      0        0  ...   \n",
       "4    0   0   0   0   0      0          0        0      0        1  ...   \n",
       "\n",
       "   yelling  yellow  yells  yer  yield  yielded  yonder  york  youngest  youth  \n",
       "0        1       1      2    0      0        5       1    23         1     14  \n",
       "1        1       0      2    2      0        0       0     0         0      2  \n",
       "2        0       6      0    0      0        2       3     0         1     13  \n",
       "3        1       2      0    0      1        4       0     0         7     13  \n",
       "4        0      16      0    0      1        0       1     4         3      1  \n",
       "\n",
       "[5 rows x 3197 columns]"
      ]
     },
     "execution_count": 46,
     "metadata": {},
     "output_type": "execute_result"
    }
   ],
   "source": [
    "dtm = pd.DataFrame(sparse_dtm.toarray(), columns=tf_vectorizer.get_feature_names_out(), index=df_lit.index)\n",
    "dtm.head()"
   ]
  },
  {
   "cell_type": "markdown",
   "metadata": {},
   "source": [
    "We can use a long-format DTM to quickly identify the most frequent words in a dataset."
   ]
  },
  {
   "cell_type": "code",
   "execution_count": 47,
   "metadata": {},
   "outputs": [
    {
     "data": {
      "text/plain": [
       "doctor     5032\n",
       "dick       4857\n",
       "king       4490\n",
       "jack       3787\n",
       "uncle      3680\n",
       "tom        3199\n",
       "ship       2762\n",
       "project    2738\n",
       "army       2735\n",
       "french     2677\n",
       "dtype: int64"
      ]
     },
     "execution_count": 47,
     "metadata": {},
     "output_type": "execute_result"
    }
   ],
   "source": [
    "dtm.sum().sort_values(ascending=False).head(10)"
   ]
  },
  {
   "cell_type": "markdown",
   "metadata": {},
   "source": [
    "### Challenge\n",
    "\n",
    "* Print out the most infrequent words rather than the most frequent words. You can look at the [Pandas documentation](http://pandas.pydata.org/pandas-docs/stable/api.html#api-dataframe-stats) for more information.\n",
    "* Print the average number of times each word is used in a review.\n",
    "* Print this out sorted from highest to lowest."
   ]
  },
  {
   "cell_type": "code",
   "execution_count": null,
   "metadata": {},
   "outputs": [],
   "source": [
    "# your code here"
   ]
  },
  {
   "cell_type": "code",
   "execution_count": 48,
   "metadata": {},
   "outputs": [],
   "source": [
    "# solution"
   ]
  },
  {
   "cell_type": "markdown",
   "metadata": {},
   "source": [
    "### TO DO: Add solution"
   ]
  },
  {
   "cell_type": "markdown",
   "metadata": {},
   "source": [
    "## Fit a Topic Model using LDA\n",
    "\n",
    "Now we're ready to fit the model. This requires the use of the `scikit-learn` function `LatentDirichletAllocation`. See [here](http://scikit-learn.org/stable/modules/generated/sklearn.decomposition.LatentDirichletAllocation.html) for more information about this function. "
   ]
  },
  {
   "cell_type": "code",
   "execution_count": 49,
   "metadata": {},
   "outputs": [],
   "source": [
    "from sklearn.decomposition import LatentDirichletAllocation as LDA\n",
    "\n",
    "n_samples = 2000\n",
    "n_topics = 4\n",
    "n_top_words = 50\n",
    "\n",
    "##This is a function to print out the top words for each topic in a pretty way.\n",
    "#Don't worry too much about understanding every line of this code.\n",
    "def print_top_words(model, feature_names, n_top_words):\n",
    "    for topic_idx, topic in enumerate(model.components_):\n",
    "        print(\"\\nTopic #%d:\" % topic_idx)\n",
    "        print(\" \".join([feature_names[i]\n",
    "                        for i in topic.argsort()[:-n_top_words - 1:-1]]))\n",
    "    print()"
   ]
  },
  {
   "cell_type": "code",
   "execution_count": 50,
   "metadata": {},
   "outputs": [
    {
     "name": "stdout",
     "output_type": "stream",
     "text": [
      "Fitting LDA models with tf features, n_samples=2000 and n_topics=4...\n",
      "Done!\n"
     ]
    }
   ],
   "source": [
    "print(\"Fitting LDA models with tf features, \"\n",
    "      \"n_samples=%d and n_topics=%d...\"\n",
    "      % (n_samples, n_topics))\n",
    "\n",
    "#define the lda function, with desired options\n",
    "#Check the documentation, linked above, to look through the options\n",
    "lda = LDA(n_components=n_topics, \n",
    "                                max_iter=20,\n",
    "                                learning_method='online',\n",
    "                                learning_offset=80.,\n",
    "                                total_samples=n_samples,\n",
    "                                random_state=0)\n",
    "#fit the model\n",
    "lda.fit(sparse_dtm)\n",
    "print(\"Done!\")"
   ]
  },
  {
   "cell_type": "code",
   "execution_count": 52,
   "metadata": {},
   "outputs": [
    {
     "name": "stdout",
     "output_type": "stream",
     "text": [
      "\n",
      "Topics in LDA model:\n",
      "\n",
      "Topic #0:\n",
      "project doctor girls sister papa mamma london baby sweet tom street works dr remarked aunt tea youth foundation presently study em ain cousin office darling loved ladies wasn everybody public flower observed nurse ma shop snow ye queen class reader ice stairs flowers lovely agreement sisters doesn carriage bell garden\n",
      "\n",
      "Topic #1:\n",
      "dick uncle doctor er jack ain tom den yer fish em rock wolf gun rope lads ha birds rocks beneath ay stream shock tail moments mate excitedly garden eh sand fishing thrust ye nay gazing softly mountain ship tremendous hook bird leg ashore growled penny shore stones farther jump knife\n",
      "\n",
      "Topic #2:\n",
      "king army french troops camp attack officers prince ship john soldiers city village officer guns rode shore regiment march tom fort wounded british boats sword advanced castle jack james indian band marched native prisoners ships arrows france numbers lads forest frank ride presently vessel fought mounted fleet column stream rear\n",
      "\n",
      "Topic #3:\n",
      "jack ye frank deck project uncle ship george shore doctor vessel ain mate lake cabin em ma st john works boats island officer girls passengers sail street church thou south office ha fish ay yer steam soldier ladies regard fleet camp public foundation rope lads illustration bottle pounds stairs crew\n",
      "\n"
     ]
    }
   ],
   "source": [
    "#print the top words per topic, using the function defined above.\n",
    "#Unlike R, which has a built-in function to print top words, we have to write our own for scikit-learn\n",
    "\n",
    "print(\"\\nTopics in LDA model:\")\n",
    "tf_feature_names = tf_vectorizer.get_feature_names_out()\n",
    "print_top_words(lda, tf_feature_names, n_top_words)"
   ]
  },
  {
   "cell_type": "markdown",
   "metadata": {},
   "source": [
    "Take a minute to inspect these top words. _What name would you give each of these topics?_ (This is a common task in topic modeling.)"
   ]
  },
  {
   "cell_type": "markdown",
   "metadata": {},
   "source": [
    "### Challenge\n",
    "\n",
    "Copy and paste the above code and fit a new model, `lda_new`, by changing some of the parameters. How does this change the output?\n",
    "\n",
    "Suggestions:\n",
    "1. Change the number of topics. \n",
    "2. Do not remove stop words. \n",
    "3. Change other options, either in the vectorize stage or the LDA model."
   ]
  },
  {
   "cell_type": "code",
   "execution_count": 9,
   "metadata": {},
   "outputs": [],
   "source": [
    "#your code here"
   ]
  },
  {
   "cell_type": "code",
   "execution_count": 22,
   "metadata": {},
   "outputs": [],
   "source": [
    "#solution\n"
   ]
  },
  {
   "cell_type": "markdown",
   "metadata": {},
   "source": [
    "## Document by Topic Distribution\n",
    "\n",
    "One thing we may want to do with the output is find the most representative texts for each topic. A simple way to do this (but not memory efficient) is to merge the topic distribution back into the Pandas dataframe.\n",
    "\n",
    "First get the topic distribution array."
   ]
  },
  {
   "cell_type": "code",
   "execution_count": 10,
   "metadata": {},
   "outputs": [
    {
     "data": {
      "text/plain": [
       "array([[9.27993669e-01, 1.43700382e-02, 5.76027691e-02, 3.35234006e-05],\n",
       "       [2.73383488e-02, 7.01313231e-02, 4.91328141e-01, 4.11202187e-01],\n",
       "       [9.72301526e-01, 3.66126075e-05, 2.25981325e-02, 5.06372922e-03],\n",
       "       [9.99907351e-01, 3.06661128e-05, 3.10550012e-05, 3.09277922e-05],\n",
       "       [9.69292227e-01, 2.88828433e-02, 6.05477628e-05, 1.76438162e-03],\n",
       "       [9.02818435e-01, 9.70583246e-02, 6.16743414e-05, 6.15656757e-05],\n",
       "       [4.10396600e-01, 5.86307314e-01, 1.35979768e-04, 3.16010688e-03],\n",
       "       [9.99890902e-01, 3.60980543e-05, 3.67128035e-05, 3.62872482e-05],\n",
       "       [2.46371338e-01, 2.56589766e-01, 4.50088248e-01, 4.69506480e-02],\n",
       "       [7.08481800e-05, 3.81086663e-01, 6.18771825e-01, 7.06641686e-05],\n",
       "       [6.19417246e-02, 5.60865999e-02, 8.81890242e-01, 8.14334923e-05],\n",
       "       [5.50253267e-05, 5.59319821e-05, 5.52375701e-05, 9.99833805e-01],\n",
       "       [1.54941895e-01, 8.53067338e-05, 1.95440934e-01, 6.49531864e-01],\n",
       "       [8.16413872e-01, 6.08089939e-02, 1.22708631e-01, 6.85031993e-05],\n",
       "       [6.29009722e-01, 4.21386866e-02, 2.54541577e-01, 7.43100148e-02],\n",
       "       [5.20390704e-01, 2.69891665e-05, 3.12178238e-01, 1.67404069e-01],\n",
       "       [2.59339206e-05, 2.54612217e-05, 9.99922584e-01, 2.60211864e-05],\n",
       "       [6.22435512e-03, 4.68816251e-05, 2.25767472e-02, 9.71152016e-01],\n",
       "       [3.87465852e-04, 9.99551674e-01, 3.01743230e-05, 3.06855502e-05],\n",
       "       [2.68953989e-05, 9.99919007e-01, 2.72168308e-05, 2.68810707e-05],\n",
       "       [2.69833700e-05, 2.80524034e-02, 7.49472949e-01, 2.22447664e-01],\n",
       "       [2.77889542e-05, 7.34069452e-02, 1.97857460e-01, 7.28707806e-01],\n",
       "       [9.97249650e-01, 6.12290209e-05, 1.11113084e-03, 1.57799044e-03],\n",
       "       [2.11005150e-03, 7.24263955e-01, 2.73601496e-01, 2.44968641e-05],\n",
       "       [2.23764047e-05, 9.99933009e-01, 2.22828683e-05, 2.23316258e-05],\n",
       "       [4.93753142e-05, 4.91020308e-05, 4.98451013e-05, 9.99851678e-01],\n",
       "       [9.92489652e-01, 1.86473736e-03, 1.54734276e-03, 4.09826791e-03],\n",
       "       [9.99882923e-01, 3.88701433e-05, 3.89527356e-05, 3.92542903e-05],\n",
       "       [9.99873970e-01, 4.19279277e-05, 4.18597810e-05, 4.22421685e-05],\n",
       "       [6.95185897e-04, 7.34312964e-03, 4.01273553e-03, 9.87948949e-01],\n",
       "       [8.75839693e-01, 1.24052565e-01, 5.41207288e-05, 5.36206171e-05],\n",
       "       [6.36222545e-01, 3.63720142e-01, 2.86381710e-05, 2.86742684e-05],\n",
       "       [2.95087877e-05, 2.95816598e-05, 9.99911112e-01, 2.97977155e-05],\n",
       "       [2.13256430e-05, 2.10559479e-05, 9.99936397e-01, 2.12209363e-05],\n",
       "       [2.52951451e-05, 2.47863102e-05, 9.99924710e-01, 2.52088689e-05],\n",
       "       [5.50178330e-01, 3.81124210e-05, 2.19143102e-01, 2.30640456e-01],\n",
       "       [9.99870242e-01, 4.29589552e-05, 4.32499132e-05, 4.35495588e-05],\n",
       "       [7.68274655e-01, 2.31587553e-01, 6.88908253e-05, 6.89012673e-05],\n",
       "       [3.02635323e-05, 3.00362899e-05, 2.28550285e-01, 7.71389415e-01],\n",
       "       [3.78348200e-01, 3.76726709e-05, 6.05171022e-01, 1.64431056e-02],\n",
       "       [2.48140562e-05, 1.14676837e-01, 8.85273702e-01, 2.46464918e-05],\n",
       "       [2.46288680e-05, 6.86021611e-02, 8.78430327e-01, 5.29428835e-02],\n",
       "       [6.96768549e-01, 1.61091998e-02, 2.48347032e-01, 3.87752187e-02],\n",
       "       [9.84724988e-01, 1.32514180e-02, 2.82458747e-05, 1.99534815e-03],\n",
       "       [9.48549600e-01, 2.17851043e-02, 4.99388846e-05, 2.96153565e-02],\n",
       "       [9.99432957e-01, 1.86591148e-04, 1.88885121e-04, 1.91566514e-04],\n",
       "       [6.44725935e-03, 1.15032272e-01, 1.39974344e-01, 7.38546124e-01],\n",
       "       [8.92880314e-01, 1.06990181e-01, 6.49862726e-05, 6.45187573e-05],\n",
       "       [2.79592490e-05, 9.99916066e-01, 2.79014504e-05, 2.80733658e-05],\n",
       "       [1.89458962e-05, 7.47291749e-01, 2.52670376e-01, 1.89295372e-05],\n",
       "       [2.47825533e-05, 9.68102678e-01, 2.02279090e-02, 1.16446302e-02],\n",
       "       [9.40573222e-01, 4.88573281e-02, 6.35625559e-05, 1.05058869e-02],\n",
       "       [6.43259582e-01, 1.48922683e-02, 2.49253922e-05, 3.41823224e-01],\n",
       "       [2.62163326e-05, 9.99921897e-01, 2.57379596e-05, 2.61491059e-05],\n",
       "       [2.75622380e-05, 2.72366214e-05, 9.99917589e-01, 2.76122315e-05],\n",
       "       [2.84026252e-05, 9.93662591e-01, 2.80940235e-05, 6.28091229e-03],\n",
       "       [6.04745270e-05, 5.95408446e-05, 5.84978728e-05, 9.99821487e-01],\n",
       "       [5.93806852e-02, 3.46949883e-05, 3.43401887e-05, 9.40550280e-01],\n",
       "       [9.99890704e-01, 3.67775412e-05, 3.61683120e-05, 3.63499455e-05],\n",
       "       [9.15079355e-01, 2.58967910e-05, 1.62305819e-02, 6.86641667e-02],\n",
       "       [3.57347337e-01, 1.41755892e-04, 6.42369659e-01, 1.41247656e-04],\n",
       "       [1.34751191e-01, 8.65194234e-01, 2.71253760e-05, 2.74492035e-05],\n",
       "       [8.18693885e-01, 4.46272497e-03, 1.76816512e-01, 2.68784146e-05],\n",
       "       [9.99607042e-01, 3.79842903e-05, 3.79466263e-05, 3.17027013e-04],\n",
       "       [9.78565311e-01, 2.09382720e-02, 2.48876622e-04, 2.47540480e-04],\n",
       "       [3.33633353e-01, 7.07487297e-02, 5.92078991e-01, 3.53892572e-03],\n",
       "       [1.56793327e-01, 6.90749086e-01, 2.54887811e-04, 1.52202700e-01],\n",
       "       [2.34909275e-05, 2.30992456e-05, 9.99930092e-01, 2.33182901e-05],\n",
       "       [1.24520919e-02, 6.07831844e-02, 7.03609668e-02, 8.56403757e-01],\n",
       "       [5.36809469e-05, 5.27821583e-05, 1.81841629e-01, 8.18051907e-01],\n",
       "       [1.62000362e-01, 2.70566965e-01, 5.66232408e-01, 1.20026461e-03],\n",
       "       [4.75872869e-01, 5.23997278e-01, 6.44584727e-05, 6.53940160e-05],\n",
       "       [5.11255638e-01, 6.63880256e-02, 1.29577789e-01, 2.92778547e-01],\n",
       "       [3.25555282e-01, 5.29041078e-05, 6.64877341e-01, 9.51447358e-03],\n",
       "       [6.74521206e-01, 3.94834898e-02, 2.82683303e-01, 3.31200138e-03],\n",
       "       [6.59971779e-01, 3.26800005e-01, 1.92630251e-04, 1.30355853e-02],\n",
       "       [4.47955889e-01, 2.07716120e-05, 5.52002729e-01, 2.06111200e-05],\n",
       "       [2.74230398e-05, 2.73114627e-05, 9.48652379e-01, 5.12928869e-02],\n",
       "       [3.24002453e-02, 2.43931794e-05, 9.67550760e-01, 2.46015027e-05],\n",
       "       [9.94149674e-01, 3.97325275e-05, 5.77114770e-03, 3.94457639e-05],\n",
       "       [5.07795452e-03, 2.60262231e-05, 9.94869727e-01, 2.62918616e-05],\n",
       "       [5.08686499e-01, 8.99641260e-02, 3.05305812e-01, 9.60435633e-02],\n",
       "       [3.63808909e-01, 3.12648813e-05, 5.60073674e-01, 7.60861521e-02],\n",
       "       [2.87962449e-05, 2.86650849e-05, 9.99913614e-01, 2.89245921e-05],\n",
       "       [6.44128252e-01, 1.62680401e-01, 1.00259212e-01, 9.29321352e-02],\n",
       "       [9.99914405e-01, 2.87026734e-05, 2.83997990e-05, 2.84923735e-05],\n",
       "       [5.96775142e-01, 2.53240034e-05, 4.03174376e-01, 2.51587580e-05],\n",
       "       [6.06937332e-01, 1.54511233e-01, 2.32583613e-01, 5.96782155e-03],\n",
       "       [2.52271767e-01, 2.30484781e-01, 2.10400343e-01, 3.06843109e-01],\n",
       "       [8.30419324e-01, 6.65000717e-02, 1.02893114e-01, 1.87490356e-04],\n",
       "       [6.57108783e-01, 1.21895883e-02, 1.59472791e-01, 1.71228837e-01],\n",
       "       [2.35593547e-01, 5.21793079e-02, 7.12186383e-01, 4.07624485e-05],\n",
       "       [5.07083732e-03, 2.12332011e-04, 2.11909485e-04, 9.94504921e-01],\n",
       "       [2.60719523e-05, 2.57156990e-05, 9.91388118e-01, 8.56009414e-03],\n",
       "       [2.33063082e-05, 2.31460419e-05, 9.99930270e-01, 2.32780864e-05],\n",
       "       [9.13593348e-01, 7.73206543e-02, 8.98878874e-03, 9.72093796e-05],\n",
       "       [3.50812124e-01, 5.86339435e-02, 6.90240031e-05, 5.90484908e-01],\n",
       "       [9.99903337e-01, 3.22304386e-05, 3.22208712e-05, 3.22113930e-05],\n",
       "       [8.38573910e-01, 1.60767632e-02, 1.22366608e-01, 2.29827186e-02],\n",
       "       [3.00244254e-02, 8.74038640e-01, 9.58471271e-02, 8.98078334e-05],\n",
       "       [9.99897778e-01, 3.38302806e-05, 3.40937077e-05, 3.42982466e-05],\n",
       "       [6.18421796e-01, 2.82558672e-02, 3.53277967e-01, 4.43698230e-05],\n",
       "       [3.66632194e-01, 1.67964686e-01, 4.65343321e-01, 5.97993334e-05],\n",
       "       [5.74429841e-01, 1.14779581e-01, 3.07629681e-01, 3.16089710e-03],\n",
       "       [2.98722530e-05, 7.80221211e-01, 2.19719235e-01, 2.96820595e-05],\n",
       "       [6.85523511e-01, 1.99822730e-01, 2.49746058e-04, 1.14404013e-01],\n",
       "       [7.07904733e-01, 3.67137105e-02, 2.07369327e-01, 4.80122293e-02],\n",
       "       [9.93605752e-01, 9.26695521e-05, 8.95035000e-05, 6.21207458e-03],\n",
       "       [9.99869696e-01, 4.34422188e-05, 4.32532342e-05, 4.36086232e-05],\n",
       "       [9.89787950e-01, 2.77545432e-05, 1.01567162e-02, 2.75792374e-05],\n",
       "       [4.69569319e-03, 3.84249969e-02, 9.56853604e-01, 2.57059858e-05],\n",
       "       [2.14651385e-05, 2.12966427e-05, 9.99935882e-01, 2.13565648e-05],\n",
       "       [3.21889729e-05, 1.32252402e-01, 8.67683173e-01, 3.22364414e-05],\n",
       "       [5.23945561e-01, 2.35792644e-02, 3.03667792e-05, 4.52444808e-01],\n",
       "       [3.47794382e-05, 9.99895593e-01, 3.46976144e-05, 3.49300271e-05],\n",
       "       [8.24753592e-05, 9.99750816e-01, 8.35146626e-05, 8.31942505e-05],\n",
       "       [4.28114427e-01, 1.87053683e-03, 1.33569490e-01, 4.36445546e-01],\n",
       "       [4.54667623e-03, 3.63829509e-01, 5.93609748e-02, 5.72262840e-01],\n",
       "       [5.37666487e-01, 1.82696997e-01, 2.16645746e-01, 6.29907702e-02],\n",
       "       [6.29197555e-02, 3.24250187e-01, 6.06466466e-01, 6.36359138e-03],\n",
       "       [3.39127111e-03, 9.96494489e-01, 5.63670954e-05, 5.78726307e-05],\n",
       "       [2.24936092e-05, 2.26005723e-05, 9.99932315e-01, 2.25905995e-05],\n",
       "       [4.71212890e-05, 4.68654488e-05, 4.78505333e-05, 9.99858163e-01],\n",
       "       [9.60204564e-01, 5.35638494e-05, 5.19090084e-03, 3.45509713e-02],\n",
       "       [2.58383298e-05, 2.54067521e-05, 9.99923113e-01, 2.56418862e-05],\n",
       "       [2.00457030e-05, 2.02350450e-05, 9.99939520e-01, 2.01988375e-05],\n",
       "       [2.23771449e-05, 2.23741816e-05, 9.67389742e-01, 3.25655066e-02]])"
      ]
     },
     "execution_count": 10,
     "metadata": {},
     "output_type": "execute_result"
    }
   ],
   "source": [
    "topic_dist = lda.transform(tf)\n",
    "topic_dist"
   ]
  },
  {
   "cell_type": "markdown",
   "metadata": {},
   "source": [
    "Merge back in with the original dataframe:"
   ]
  },
  {
   "cell_type": "code",
   "execution_count": 11,
   "metadata": {},
   "outputs": [
    {
     "data": {
      "text/html": [
       "<div>\n",
       "<style scoped>\n",
       "    .dataframe tbody tr th:only-of-type {\n",
       "        vertical-align: middle;\n",
       "    }\n",
       "\n",
       "    .dataframe tbody tr th {\n",
       "        vertical-align: top;\n",
       "    }\n",
       "\n",
       "    .dataframe thead th {\n",
       "        text-align: right;\n",
       "    }\n",
       "</style>\n",
       "<table border=\"1\" class=\"dataframe\">\n",
       "  <thead>\n",
       "    <tr style=\"text-align: right;\">\n",
       "      <th></th>\n",
       "      <th>0</th>\n",
       "      <th>1</th>\n",
       "      <th>2</th>\n",
       "      <th>3</th>\n",
       "      <th>title</th>\n",
       "      <th>author gender</th>\n",
       "      <th>year</th>\n",
       "      <th>text</th>\n",
       "    </tr>\n",
       "  </thead>\n",
       "  <tbody>\n",
       "    <tr>\n",
       "      <th>0</th>\n",
       "      <td>0.927994</td>\n",
       "      <td>0.014370</td>\n",
       "      <td>0.057603</td>\n",
       "      <td>0.000034</td>\n",
       "      <td>A Dog with a Bad Name</td>\n",
       "      <td>Male</td>\n",
       "      <td>1886.0</td>\n",
       "      <td>A DOG WITH A BAD NAME  BY TALBOT BAINES REED  ...</td>\n",
       "    </tr>\n",
       "    <tr>\n",
       "      <th>1</th>\n",
       "      <td>0.027338</td>\n",
       "      <td>0.070131</td>\n",
       "      <td>0.491328</td>\n",
       "      <td>0.411202</td>\n",
       "      <td>A Final Reckoning</td>\n",
       "      <td>Male</td>\n",
       "      <td>1887.0</td>\n",
       "      <td>A Final Reckoning: A Tale of Bush Life in Aust...</td>\n",
       "    </tr>\n",
       "    <tr>\n",
       "      <th>2</th>\n",
       "      <td>0.972302</td>\n",
       "      <td>0.000037</td>\n",
       "      <td>0.022598</td>\n",
       "      <td>0.005064</td>\n",
       "      <td>A House Party, Don Gesualdo, and A Rainy June</td>\n",
       "      <td>Female</td>\n",
       "      <td>1887.0</td>\n",
       "      <td>A HOUSE-PARTY  Don Gesualdo  and  A Rainy June...</td>\n",
       "    </tr>\n",
       "    <tr>\n",
       "      <th>3</th>\n",
       "      <td>0.999907</td>\n",
       "      <td>0.000031</td>\n",
       "      <td>0.000031</td>\n",
       "      <td>0.000031</td>\n",
       "      <td>A Houseful of Girls</td>\n",
       "      <td>Female</td>\n",
       "      <td>1889.0</td>\n",
       "      <td>A HOUSEFUL OF GIRLS. BY SARAH TYTLER,  AUTHOR ...</td>\n",
       "    </tr>\n",
       "    <tr>\n",
       "      <th>4</th>\n",
       "      <td>0.969292</td>\n",
       "      <td>0.028883</td>\n",
       "      <td>0.000061</td>\n",
       "      <td>0.001764</td>\n",
       "      <td>A Little Country Girl</td>\n",
       "      <td>Female</td>\n",
       "      <td>1885.0</td>\n",
       "      <td>LITTLE COUNTRY GIRL.  BY  SUSAN COOLIDGE,     ...</td>\n",
       "    </tr>\n",
       "    <tr>\n",
       "      <th>...</th>\n",
       "      <td>...</td>\n",
       "      <td>...</td>\n",
       "      <td>...</td>\n",
       "      <td>...</td>\n",
       "      <td>...</td>\n",
       "      <td>...</td>\n",
       "      <td>...</td>\n",
       "      <td>...</td>\n",
       "    </tr>\n",
       "    <tr>\n",
       "      <th>122</th>\n",
       "      <td>0.000047</td>\n",
       "      <td>0.000047</td>\n",
       "      <td>0.000048</td>\n",
       "      <td>0.999858</td>\n",
       "      <td>Treasure Island</td>\n",
       "      <td>Male</td>\n",
       "      <td>1883.0</td>\n",
       "      <td>TREASURE ISLAND  by Robert Louis Stevenson    ...</td>\n",
       "    </tr>\n",
       "    <tr>\n",
       "      <th>123</th>\n",
       "      <td>0.960205</td>\n",
       "      <td>0.000054</td>\n",
       "      <td>0.005191</td>\n",
       "      <td>0.034551</td>\n",
       "      <td>Twice Bought</td>\n",
       "      <td>Male</td>\n",
       "      <td>1885.0</td>\n",
       "      <td>The Project Gutenberg EBook of Twice Bought, b...</td>\n",
       "    </tr>\n",
       "    <tr>\n",
       "      <th>124</th>\n",
       "      <td>0.000026</td>\n",
       "      <td>0.000025</td>\n",
       "      <td>0.999923</td>\n",
       "      <td>0.000026</td>\n",
       "      <td>Two Arrows</td>\n",
       "      <td>Male</td>\n",
       "      <td>1886.0</td>\n",
       "      <td>TWO ARROWS      HARPER'S YOUNG PEOPLE'S SERIES...</td>\n",
       "    </tr>\n",
       "    <tr>\n",
       "      <th>125</th>\n",
       "      <td>0.000020</td>\n",
       "      <td>0.000020</td>\n",
       "      <td>0.999940</td>\n",
       "      <td>0.000020</td>\n",
       "      <td>Uncle Remus: His Songs and Sayings</td>\n",
       "      <td>Male</td>\n",
       "      <td>1880.0</td>\n",
       "      <td>Uncle Remus: His Songs and His Sayings  By Joe...</td>\n",
       "    </tr>\n",
       "    <tr>\n",
       "      <th>126</th>\n",
       "      <td>0.000022</td>\n",
       "      <td>0.000022</td>\n",
       "      <td>0.967390</td>\n",
       "      <td>0.032566</td>\n",
       "      <td>Under Drake's Flag</td>\n",
       "      <td>Male</td>\n",
       "      <td>1883.0</td>\n",
       "      <td>Under Drake's Flag:  A Tale of the Spanish Mai...</td>\n",
       "    </tr>\n",
       "  </tbody>\n",
       "</table>\n",
       "<p>127 rows × 8 columns</p>\n",
       "</div>"
      ],
      "text/plain": [
       "            0         1         2         3  \\\n",
       "0    0.927994  0.014370  0.057603  0.000034   \n",
       "1    0.027338  0.070131  0.491328  0.411202   \n",
       "2    0.972302  0.000037  0.022598  0.005064   \n",
       "3    0.999907  0.000031  0.000031  0.000031   \n",
       "4    0.969292  0.028883  0.000061  0.001764   \n",
       "..        ...       ...       ...       ...   \n",
       "122  0.000047  0.000047  0.000048  0.999858   \n",
       "123  0.960205  0.000054  0.005191  0.034551   \n",
       "124  0.000026  0.000025  0.999923  0.000026   \n",
       "125  0.000020  0.000020  0.999940  0.000020   \n",
       "126  0.000022  0.000022  0.967390  0.032566   \n",
       "\n",
       "                                             title author gender    year  \\\n",
       "0                            A Dog with a Bad Name          Male  1886.0   \n",
       "1                                A Final Reckoning          Male  1887.0   \n",
       "2    A House Party, Don Gesualdo, and A Rainy June        Female  1887.0   \n",
       "3                              A Houseful of Girls        Female  1889.0   \n",
       "4                            A Little Country Girl        Female  1885.0   \n",
       "..                                             ...           ...     ...   \n",
       "122                                Treasure Island          Male  1883.0   \n",
       "123                                   Twice Bought          Male  1885.0   \n",
       "124                                     Two Arrows          Male  1886.0   \n",
       "125             Uncle Remus: His Songs and Sayings          Male  1880.0   \n",
       "126                             Under Drake's Flag          Male  1883.0   \n",
       "\n",
       "                                                  text  \n",
       "0    A DOG WITH A BAD NAME  BY TALBOT BAINES REED  ...  \n",
       "1    A Final Reckoning: A Tale of Bush Life in Aust...  \n",
       "2    A HOUSE-PARTY  Don Gesualdo  and  A Rainy June...  \n",
       "3    A HOUSEFUL OF GIRLS. BY SARAH TYTLER,  AUTHOR ...  \n",
       "4    LITTLE COUNTRY GIRL.  BY  SUSAN COOLIDGE,     ...  \n",
       "..                                                 ...  \n",
       "122  TREASURE ISLAND  by Robert Louis Stevenson    ...  \n",
       "123  The Project Gutenberg EBook of Twice Bought, b...  \n",
       "124  TWO ARROWS      HARPER'S YOUNG PEOPLE'S SERIES...  \n",
       "125  Uncle Remus: His Songs and His Sayings  By Joe...  \n",
       "126  Under Drake's Flag:  A Tale of the Spanish Mai...  \n",
       "\n",
       "[127 rows x 8 columns]"
      ]
     },
     "execution_count": 11,
     "metadata": {},
     "output_type": "execute_result"
    }
   ],
   "source": [
    "topic_dist_df = pandas.DataFrame(topic_dist)\n",
    "df_w_topics = topic_dist_df.join(df_lit)\n",
    "df_w_topics"
   ]
  },
  {
   "cell_type": "markdown",
   "metadata": {},
   "source": [
    "Now we can sort the dataframe for the topic of interest, and view the top documents for the topics.\n",
    "Below we sort the documents first by Topic 0 (looking at the top words for this topic I think it's about family, health, and domestic activities), and next by Topic 1 (again looking at the top words I think this topic is about children playing outside in nature). These topics may be a family/nature split?\n",
    "\n",
    "Look at the titles for the two different topics. Look at the gender of the author. Hypotheses?"
   ]
  },
  {
   "cell_type": "code",
   "execution_count": 12,
   "metadata": {
    "scrolled": true
   },
   "outputs": [
    {
     "name": "stdout",
     "output_type": "stream",
     "text": [
      "                                  title author gender         0\n",
      "85                                  NaN           NaN  0.999914\n",
      "3                   A Houseful of Girls        Female  0.999907\n",
      "97                   The Life of a Ship          Male  0.999903\n",
      "100   The Little Princess of Tower Hill        Female  0.999898\n",
      "7                      A World of Girls        Female  0.999891\n",
      "..                                  ...           ...       ...\n",
      "24                     Dick o' the Fens          Male  0.000022\n",
      "111                The Thorogood Family          Male  0.000021\n",
      "33                       For the Temple          Male  0.000021\n",
      "125  Uncle Remus: His Songs and Sayings          Male  0.000020\n",
      "49                            Menhardoc          Male  0.000019\n",
      "\n",
      "[127 rows x 3 columns]\n"
     ]
    }
   ],
   "source": [
    "print(df_w_topics[['title', 'author gender', 0]].sort_values(by=[0], ascending=False))"
   ]
  },
  {
   "cell_type": "code",
   "execution_count": 13,
   "metadata": {
    "scrolled": true
   },
   "outputs": [
    {
     "name": "stdout",
     "output_type": "stream",
     "text": [
      "                                  title author gender         1\n",
      "24                     Dick o' the Fens          Male  0.999933\n",
      "53                      My Friend Smith          Male  0.999922\n",
      "19                          Bunyip Land          Male  0.999919\n",
      "48               Little Lord Fauntleroy        Female  0.999916\n",
      "114             The Willoughby Captains          Male  0.999896\n",
      "..                                  ...           ...       ...\n",
      "126                  Under Drake's Flag          Male  0.000022\n",
      "111                The Thorogood Family          Male  0.000021\n",
      "33                       For the Temple          Male  0.000021\n",
      "76                        The Big Otter          Male  0.000021\n",
      "125  Uncle Remus: His Songs and Sayings          Male  0.000020\n",
      "\n",
      "[127 rows x 3 columns]\n"
     ]
    }
   ],
   "source": [
    "print(df_w_topics[['title', 'author gender', 1]].sort_values(by=[1], ascending=False))"
   ]
  },
  {
   "cell_type": "markdown",
   "metadata": {},
   "source": [
    "### Challenge\n",
    "\n",
    "- What is the average topic weight by author gender, for each topic?\n",
    "- Which topic is most represented in texts by women? Most represented in texts by men?\n",
    "- Which topic is least represented in texts by women? Least represented in texts by men?\n",
    "- Graph these results.\n",
    "\n",
    "Hint 1: Consider using the python `range` function and a for-loop to create a list of topic indices and inspect average topic weights. This code block gets that started for you."
   ]
  },
  {
   "cell_type": "code",
   "execution_count": 14,
   "metadata": {},
   "outputs": [
    {
     "name": "stdout",
     "output_type": "stream",
     "text": [
      "0\n",
      "1\n",
      "2\n",
      "3\n"
     ]
    }
   ],
   "source": [
    "topic_columns = range(0,4)\n",
    "for num in topic_columns:\n",
    "    print(num)"
   ]
  },
  {
   "cell_type": "markdown",
   "metadata": {},
   "source": [
    "Hint 2: Use a Pandas `groupby()` to compare the topic loadings of Male and Female authors."
   ]
  },
  {
   "cell_type": "code",
   "execution_count": null,
   "metadata": {},
   "outputs": [],
   "source": [
    "#your code here"
   ]
  },
  {
   "cell_type": "code",
   "execution_count": 15,
   "metadata": {},
   "outputs": [
    {
     "name": "stdout",
     "output_type": "stream",
     "text": [
      "0\n",
      "author gender\n",
      "Female    0.653199\n",
      "Male      0.323377\n",
      "Name: 0, dtype: float64\n",
      "1\n",
      "author gender\n",
      "Female    0.127721\n",
      "Male      0.189827\n",
      "Name: 1, dtype: float64\n",
      "2\n",
      "author gender\n",
      "Female    0.157666\n",
      "Male      0.326972\n",
      "Name: 2, dtype: float64\n",
      "3\n",
      "author gender\n",
      "Female    0.061414\n",
      "Male      0.159824\n",
      "Name: 3, dtype: float64\n"
     ]
    }
   ],
   "source": [
    "#solution\n",
    "grouped = df_w_topics.groupby(\"author gender\")\n",
    "for num in topic_columns:\n",
    "    print(num)\n",
    "    print(grouped[num].mean())"
   ]
  },
  {
   "cell_type": "code",
   "execution_count": 17,
   "metadata": {},
   "outputs": [
    {
     "data": {
      "image/png": "[encoded data removed]",
      "text/plain": [
       "<Figure size 432x288 with 4 Axes>"
      ]
     },
     "metadata": {
      "needs_background": "light"
     },
     "output_type": "display_data"
    }
   ],
   "source": [
    "import matplotlib.pyplot as plt\n",
    "fig1 = plt.figure()\n",
    "chrt = 0\n",
    "for num in topic_columns:\n",
    "    chrt += 1 \n",
    "    ax = fig1.add_subplot(2,3, chrt)\n",
    "    grouped[num].mean().plot(\n",
    "        kind = 'bar', \n",
    "        yerr = grouped[num].std(), \n",
    "        ylim=0, ax=ax, title=num)\n",
    "\n",
    "fig1.tight_layout()\n",
    "plt.show()"
   ]
  },
  {
   "cell_type": "markdown",
   "metadata": {},
   "source": [
    "## Words Aligned with each Topic\n",
    "\n",
    "Let's calculate the total number of words aligned with each topic and compare by author gender."
   ]
  },
  {
   "cell_type": "code",
   "execution_count": 18,
   "metadata": {
    "scrolled": true
   },
   "outputs": [
    {
     "data": {
      "text/plain": [
       "0       96493\n",
       "1      100603\n",
       "2       85132\n",
       "3       92822\n",
       "4       48251\n",
       "        ...  \n",
       "122     68589\n",
       "123     76593\n",
       "124     56018\n",
       "125     53942\n",
       "126    108275\n",
       "Name: word_count, Length: 127, dtype: int64"
      ]
     },
     "execution_count": 18,
     "metadata": {},
     "output_type": "execute_result"
    }
   ],
   "source": [
    "#first create word count column\n",
    "\n",
    "df_w_topics['word_count'] = df_w_topics['text'].apply(lambda x: len(str(x).split()))\n",
    "df_w_topics['word_count']"
   ]
  },
  {
   "cell_type": "code",
   "execution_count": 19,
   "metadata": {},
   "outputs": [
    {
     "data": {
      "text/plain": [
       "0      89544.893129\n",
       "1       2750.319905\n",
       "2      82773.973483\n",
       "3      92813.400143\n",
       "4      46769.319262\n",
       "           ...     \n",
       "122        3.232002\n",
       "123    73544.948175\n",
       "124        1.447412\n",
       "125        1.081305\n",
       "126        2.422885\n",
       "Name: 0_wc, Length: 127, dtype: float64"
      ]
     },
     "execution_count": 19,
     "metadata": {},
     "output_type": "execute_result"
    }
   ],
   "source": [
    "#multiply topic weight by word count\n",
    "\n",
    "df_w_topics['0_wc'] = df_w_topics[0] * df_w_topics['word_count']\n",
    "df_w_topics['0_wc']"
   ]
  },
  {
   "cell_type": "code",
   "execution_count": 20,
   "metadata": {},
   "outputs": [
    {
     "data": {
      "text/html": [
       "<div>\n",
       "<style scoped>\n",
       "    .dataframe tbody tr th:only-of-type {\n",
       "        vertical-align: middle;\n",
       "    }\n",
       "\n",
       "    .dataframe tbody tr th {\n",
       "        vertical-align: top;\n",
       "    }\n",
       "\n",
       "    .dataframe thead th {\n",
       "        text-align: right;\n",
       "    }\n",
       "</style>\n",
       "<table border=\"1\" class=\"dataframe\">\n",
       "  <thead>\n",
       "    <tr style=\"text-align: right;\">\n",
       "      <th></th>\n",
       "      <th>0</th>\n",
       "      <th>1</th>\n",
       "      <th>2</th>\n",
       "      <th>3</th>\n",
       "      <th>title</th>\n",
       "      <th>author gender</th>\n",
       "      <th>year</th>\n",
       "      <th>text</th>\n",
       "      <th>word_count</th>\n",
       "      <th>0_wc</th>\n",
       "      <th>1_wc</th>\n",
       "      <th>2_wc</th>\n",
       "      <th>3_wc</th>\n",
       "    </tr>\n",
       "  </thead>\n",
       "  <tbody>\n",
       "    <tr>\n",
       "      <th>0</th>\n",
       "      <td>0.927994</td>\n",
       "      <td>0.014370</td>\n",
       "      <td>0.057603</td>\n",
       "      <td>0.000034</td>\n",
       "      <td>A Dog with a Bad Name</td>\n",
       "      <td>Male</td>\n",
       "      <td>1886.0</td>\n",
       "      <td>A DOG WITH A BAD NAME  BY TALBOT BAINES REED  ...</td>\n",
       "      <td>96493</td>\n",
       "      <td>89544.893129</td>\n",
       "      <td>1386.608095</td>\n",
       "      <td>5558.264002</td>\n",
       "      <td>3.234773</td>\n",
       "    </tr>\n",
       "    <tr>\n",
       "      <th>1</th>\n",
       "      <td>0.027338</td>\n",
       "      <td>0.070131</td>\n",
       "      <td>0.491328</td>\n",
       "      <td>0.411202</td>\n",
       "      <td>A Final Reckoning</td>\n",
       "      <td>Male</td>\n",
       "      <td>1887.0</td>\n",
       "      <td>A Final Reckoning: A Tale of Bush Life in Aust...</td>\n",
       "      <td>100603</td>\n",
       "      <td>2750.319905</td>\n",
       "      <td>7055.421499</td>\n",
       "      <td>49429.084933</td>\n",
       "      <td>41368.173663</td>\n",
       "    </tr>\n",
       "    <tr>\n",
       "      <th>2</th>\n",
       "      <td>0.972302</td>\n",
       "      <td>0.000037</td>\n",
       "      <td>0.022598</td>\n",
       "      <td>0.005064</td>\n",
       "      <td>A House Party, Don Gesualdo, and A Rainy June</td>\n",
       "      <td>Female</td>\n",
       "      <td>1887.0</td>\n",
       "      <td>A HOUSE-PARTY  Don Gesualdo  and  A Rainy June...</td>\n",
       "      <td>85132</td>\n",
       "      <td>82773.973483</td>\n",
       "      <td>3.116905</td>\n",
       "      <td>1923.824216</td>\n",
       "      <td>431.085396</td>\n",
       "    </tr>\n",
       "    <tr>\n",
       "      <th>3</th>\n",
       "      <td>0.999907</td>\n",
       "      <td>0.000031</td>\n",
       "      <td>0.000031</td>\n",
       "      <td>0.000031</td>\n",
       "      <td>A Houseful of Girls</td>\n",
       "      <td>Female</td>\n",
       "      <td>1889.0</td>\n",
       "      <td>A HOUSEFUL OF GIRLS. BY SARAH TYTLER,  AUTHOR ...</td>\n",
       "      <td>92822</td>\n",
       "      <td>92813.400143</td>\n",
       "      <td>2.846490</td>\n",
       "      <td>2.882587</td>\n",
       "      <td>2.870780</td>\n",
       "    </tr>\n",
       "    <tr>\n",
       "      <th>4</th>\n",
       "      <td>0.969292</td>\n",
       "      <td>0.028883</td>\n",
       "      <td>0.000061</td>\n",
       "      <td>0.001764</td>\n",
       "      <td>A Little Country Girl</td>\n",
       "      <td>Female</td>\n",
       "      <td>1885.0</td>\n",
       "      <td>LITTLE COUNTRY GIRL.  BY  SUSAN COOLIDGE,     ...</td>\n",
       "      <td>48251</td>\n",
       "      <td>46769.319262</td>\n",
       "      <td>1393.626070</td>\n",
       "      <td>2.921490</td>\n",
       "      <td>85.133178</td>\n",
       "    </tr>\n",
       "    <tr>\n",
       "      <th>...</th>\n",
       "      <td>...</td>\n",
       "      <td>...</td>\n",
       "      <td>...</td>\n",
       "      <td>...</td>\n",
       "      <td>...</td>\n",
       "      <td>...</td>\n",
       "      <td>...</td>\n",
       "      <td>...</td>\n",
       "      <td>...</td>\n",
       "      <td>...</td>\n",
       "      <td>...</td>\n",
       "      <td>...</td>\n",
       "      <td>...</td>\n",
       "    </tr>\n",
       "    <tr>\n",
       "      <th>122</th>\n",
       "      <td>0.000047</td>\n",
       "      <td>0.000047</td>\n",
       "      <td>0.000048</td>\n",
       "      <td>0.999858</td>\n",
       "      <td>Treasure Island</td>\n",
       "      <td>Male</td>\n",
       "      <td>1883.0</td>\n",
       "      <td>TREASURE ISLAND  by Robert Louis Stevenson    ...</td>\n",
       "      <td>68589</td>\n",
       "      <td>3.232002</td>\n",
       "      <td>3.214454</td>\n",
       "      <td>3.282020</td>\n",
       "      <td>68579.271523</td>\n",
       "    </tr>\n",
       "    <tr>\n",
       "      <th>123</th>\n",
       "      <td>0.960205</td>\n",
       "      <td>0.000054</td>\n",
       "      <td>0.005191</td>\n",
       "      <td>0.034551</td>\n",
       "      <td>Twice Bought</td>\n",
       "      <td>Male</td>\n",
       "      <td>1885.0</td>\n",
       "      <td>The Project Gutenberg EBook of Twice Bought, b...</td>\n",
       "      <td>76593</td>\n",
       "      <td>73544.948175</td>\n",
       "      <td>4.102616</td>\n",
       "      <td>397.586668</td>\n",
       "      <td>2646.362541</td>\n",
       "    </tr>\n",
       "    <tr>\n",
       "      <th>124</th>\n",
       "      <td>0.000026</td>\n",
       "      <td>0.000025</td>\n",
       "      <td>0.999923</td>\n",
       "      <td>0.000026</td>\n",
       "      <td>Two Arrows</td>\n",
       "      <td>Male</td>\n",
       "      <td>1886.0</td>\n",
       "      <td>TWO ARROWS      HARPER'S YOUNG PEOPLE'S SERIES...</td>\n",
       "      <td>56018</td>\n",
       "      <td>1.447412</td>\n",
       "      <td>1.423235</td>\n",
       "      <td>56013.692946</td>\n",
       "      <td>1.436407</td>\n",
       "    </tr>\n",
       "    <tr>\n",
       "      <th>125</th>\n",
       "      <td>0.000020</td>\n",
       "      <td>0.000020</td>\n",
       "      <td>0.999940</td>\n",
       "      <td>0.000020</td>\n",
       "      <td>Uncle Remus: His Songs and Sayings</td>\n",
       "      <td>Male</td>\n",
       "      <td>1880.0</td>\n",
       "      <td>Uncle Remus: His Songs and His Sayings  By Joe...</td>\n",
       "      <td>53942</td>\n",
       "      <td>1.081305</td>\n",
       "      <td>1.091519</td>\n",
       "      <td>53938.737610</td>\n",
       "      <td>1.089566</td>\n",
       "    </tr>\n",
       "    <tr>\n",
       "      <th>126</th>\n",
       "      <td>0.000022</td>\n",
       "      <td>0.000022</td>\n",
       "      <td>0.967390</td>\n",
       "      <td>0.032566</td>\n",
       "      <td>Under Drake's Flag</td>\n",
       "      <td>Male</td>\n",
       "      <td>1883.0</td>\n",
       "      <td>Under Drake's Flag:  A Tale of the Spanish Mai...</td>\n",
       "      <td>108275</td>\n",
       "      <td>2.422885</td>\n",
       "      <td>2.422565</td>\n",
       "      <td>104744.124318</td>\n",
       "      <td>3526.030232</td>\n",
       "    </tr>\n",
       "  </tbody>\n",
       "</table>\n",
       "<p>127 rows × 13 columns</p>\n",
       "</div>"
      ],
      "text/plain": [
       "            0         1         2         3  \\\n",
       "0    0.927994  0.014370  0.057603  0.000034   \n",
       "1    0.027338  0.070131  0.491328  0.411202   \n",
       "2    0.972302  0.000037  0.022598  0.005064   \n",
       "3    0.999907  0.000031  0.000031  0.000031   \n",
       "4    0.969292  0.028883  0.000061  0.001764   \n",
       "..        ...       ...       ...       ...   \n",
       "122  0.000047  0.000047  0.000048  0.999858   \n",
       "123  0.960205  0.000054  0.005191  0.034551   \n",
       "124  0.000026  0.000025  0.999923  0.000026   \n",
       "125  0.000020  0.000020  0.999940  0.000020   \n",
       "126  0.000022  0.000022  0.967390  0.032566   \n",
       "\n",
       "                                             title author gender    year  \\\n",
       "0                            A Dog with a Bad Name          Male  1886.0   \n",
       "1                                A Final Reckoning          Male  1887.0   \n",
       "2    A House Party, Don Gesualdo, and A Rainy June        Female  1887.0   \n",
       "3                              A Houseful of Girls        Female  1889.0   \n",
       "4                            A Little Country Girl        Female  1885.0   \n",
       "..                                             ...           ...     ...   \n",
       "122                                Treasure Island          Male  1883.0   \n",
       "123                                   Twice Bought          Male  1885.0   \n",
       "124                                     Two Arrows          Male  1886.0   \n",
       "125             Uncle Remus: His Songs and Sayings          Male  1880.0   \n",
       "126                             Under Drake's Flag          Male  1883.0   \n",
       "\n",
       "                                                  text  word_count  \\\n",
       "0    A DOG WITH A BAD NAME  BY TALBOT BAINES REED  ...       96493   \n",
       "1    A Final Reckoning: A Tale of Bush Life in Aust...      100603   \n",
       "2    A HOUSE-PARTY  Don Gesualdo  and  A Rainy June...       85132   \n",
       "3    A HOUSEFUL OF GIRLS. BY SARAH TYTLER,  AUTHOR ...       92822   \n",
       "4    LITTLE COUNTRY GIRL.  BY  SUSAN COOLIDGE,     ...       48251   \n",
       "..                                                 ...         ...   \n",
       "122  TREASURE ISLAND  by Robert Louis Stevenson    ...       68589   \n",
       "123  The Project Gutenberg EBook of Twice Bought, b...       76593   \n",
       "124  TWO ARROWS      HARPER'S YOUNG PEOPLE'S SERIES...       56018   \n",
       "125  Uncle Remus: His Songs and His Sayings  By Joe...       53942   \n",
       "126  Under Drake's Flag:  A Tale of the Spanish Mai...      108275   \n",
       "\n",
       "             0_wc         1_wc           2_wc          3_wc  \n",
       "0    89544.893129  1386.608095    5558.264002      3.234773  \n",
       "1     2750.319905  7055.421499   49429.084933  41368.173663  \n",
       "2    82773.973483     3.116905    1923.824216    431.085396  \n",
       "3    92813.400143     2.846490       2.882587      2.870780  \n",
       "4    46769.319262  1393.626070       2.921490     85.133178  \n",
       "..            ...          ...            ...           ...  \n",
       "122      3.232002     3.214454       3.282020  68579.271523  \n",
       "123  73544.948175     4.102616     397.586668   2646.362541  \n",
       "124      1.447412     1.423235   56013.692946      1.436407  \n",
       "125      1.081305     1.091519   53938.737610      1.089566  \n",
       "126      2.422885     2.422565  104744.124318   3526.030232  \n",
       "\n",
       "[127 rows x 13 columns]"
      ]
     },
     "execution_count": 20,
     "metadata": {},
     "output_type": "execute_result"
    }
   ],
   "source": [
    "#create a for loop to do this for every topic\n",
    "\n",
    "col_list = []\n",
    "for num in topic_columns:\n",
    "    col = \"%d_wc\" % num\n",
    "    col_list.append(col)\n",
    "    df_w_topics[col] = df_w_topics[num] * df_w_topics['word_count']\n",
    "    \n",
    "df_w_topics"
   ]
  },
  {
   "cell_type": "markdown",
   "metadata": {},
   "source": [
    "### Challenge\n",
    "\n",
    "- What is the total number of words aligned with each topic, by author gender?\n",
    "- What is the proportion of total words aligned with each topic, by author gender?"
   ]
  },
  {
   "cell_type": "code",
   "execution_count": 21,
   "metadata": {},
   "outputs": [],
   "source": [
    "#your code here"
   ]
  },
  {
   "cell_type": "code",
   "execution_count": 39,
   "metadata": {},
   "outputs": [
    {
     "name": "stdout",
     "output_type": "stream",
     "text": [
      "0_wc\n",
      "author gender\n",
      "Female    1.150752e+06\n",
      "Male      2.460418e+06\n",
      "Name: 0_wc, dtype: float64\n",
      "1_wc\n",
      "author gender\n",
      "Female    1.484812e+05\n",
      "Male      1.719037e+06\n",
      "Name: 1_wc, dtype: float64\n",
      "2_wc\n",
      "author gender\n",
      "Female    1.392767e+05\n",
      "Male      2.593460e+06\n",
      "Name: 2_wc, dtype: float64\n",
      "3_wc\n",
      "author gender\n",
      "Female    6.686701e+04\n",
      "Male      1.124740e+06\n",
      "Name: 3_wc, dtype: float64\n"
     ]
    }
   ],
   "source": [
    "#solution\n",
    "grouped = df_w_topics.groupby('author gender')\n",
    "for e in col_list:\n",
    "    print(e)\n",
    "    print(grouped[e].sum())"
   ]
  },
  {
   "cell_type": "code",
   "execution_count": 17,
   "metadata": {},
   "outputs": [
    {
     "name": "stdout",
     "output_type": "stream",
     "text": [
      "0_wc\n",
      "author gender\n",
      "Female    0.764428\n",
      "Male      0.311538\n",
      "dtype: float64\n",
      "1_wc\n",
      "author gender\n",
      "Female    0.098634\n",
      "Male      0.217664\n",
      "dtype: float64\n",
      "2_wc\n",
      "author gender\n",
      "Female    0.092519\n",
      "Male      0.328384\n",
      "dtype: float64\n",
      "3_wc\n",
      "author gender\n",
      "Female    0.044419\n",
      "Male      0.142414\n",
      "dtype: float64\n"
     ]
    }
   ],
   "source": [
    "for e in col_list:\n",
    "    print(e)\n",
    "    print(grouped[e].sum()/grouped['word_count'].sum())"
   ]
  },
  {
   "cell_type": "code",
   "execution_count": 50,
   "metadata": {},
   "outputs": [
    {
     "name": "stdout",
     "output_type": "stream",
     "text": [
      "author gender\n",
      "Female    0.764428\n",
      "Male      0.311538\n",
      "dtype: float64\n",
      "author gender\n",
      "Female    0.098634\n",
      "Male      0.217664\n",
      "dtype: float64\n",
      "author gender\n",
      "Female    0.092519\n",
      "Male      0.328384\n",
      "dtype: float64\n",
      "author gender\n",
      "Female    0.044419\n",
      "Male      0.142414\n",
      "dtype: float64\n"
     ]
    }
   ],
   "source": [
    "for e in col_list:\n",
    "    print(grouped[e].sum()/grouped['word_count'].sum())"
   ]
  },
  {
   "cell_type": "code",
   "execution_count": 48,
   "metadata": {},
   "outputs": [
    {
     "data": {
      "image/png": "[encoded data removed]",
      "text/plain": [
       "<Figure size 432x288 with 4 Axes>"
      ]
     },
     "metadata": {
      "needs_background": "light"
     },
     "output_type": "display_data"
    }
   ],
   "source": [
    "fig2 = plt.figure()\n",
    "chrt = 0\n",
    "for e in col_list:\n",
    "    chrt += 1 \n",
    "    ax2 = fig2.add_subplot(2,3, chrt)\n",
    "    (grouped[e].sum()/grouped['word_count'].sum()).plot(\n",
    "        kind = 'bar', \n",
    "        yerr = grouped[e].sum()/grouped['word_count'].sum().std(), \n",
    "        ylim=0, ax=ax2, title=e)\n",
    "\n",
    "fig2.tight_layout()\n",
    "plt.show()"
   ]
  },
  {
   "cell_type": "markdown",
   "metadata": {},
   "source": [
    "Question: Why might we want to do one calculation over the other? Take average topic weight per documents versus the average number of words aligned with each topic?\n",
    "\n",
    "This brings us to...\n",
    "\n",
    "## Topic Prevalence "
   ]
  },
  {
   "cell_type": "markdown",
   "metadata": {},
   "source": [
    "### Challenge\n",
    "\n",
    "How do we define prevalence? What are different ways of measuring this, and the benefits/drawbacks of each?\n",
    "\n",
    "- Find the most prevalent topic in the corpus.\n",
    "- Find the least prevalent topic in the corpus.        "
   ]
  },
  {
   "cell_type": "code",
   "execution_count": 43,
   "metadata": {},
   "outputs": [],
   "source": [
    "#your code here"
   ]
  },
  {
   "cell_type": "code",
   "execution_count": 44,
   "metadata": {},
   "outputs": [
    {
     "name": "stdout",
     "output_type": "stream",
     "text": [
      "0_wc\n",
      "0.38404328953089484\n",
      "1_wc\n",
      "0.19860793419265868\n",
      "2_wc\n",
      "0.2906228833137559\n",
      "3_wc\n",
      "0.1267258929626905\n"
     ]
    }
   ],
   "source": [
    "#solution\n",
    "for e in col_list:\n",
    "    print(e)\n",
    "    print(df_w_topics[e].sum()/df_w_topics['word_count'].sum())"
   ]
  },
  {
   "cell_type": "markdown",
   "metadata": {},
   "source": [
    "## Prevalence over time\n",
    "\n",
    "We can do the same as above, but by year, to graph the prevalence of each topic over time."
   ]
  },
  {
   "cell_type": "code",
   "execution_count": 51,
   "metadata": {},
   "outputs": [
    {
     "data": {
      "image/png": "[encoded data removed]",
      "text/plain": [
       "<Figure size 432x288 with 4 Axes>"
      ]
     },
     "metadata": {
      "needs_background": "light"
     },
     "output_type": "display_data"
    }
   ],
   "source": [
    "grouped_year = df_w_topics.groupby('year')\n",
    "fig3 = plt.figure()\n",
    "chrt = 0\n",
    "for e in col_list:\n",
    "    chrt += 1 \n",
    "    ax2 = fig3.add_subplot(2,3, chrt)\n",
    "    (grouped_year[e].sum()/grouped_year['word_count'].sum()).plot(\n",
    "        kind='line', title=e)\n",
    "    \n",
    "fig3.tight_layout()\n",
    "plt.show()"
   ]
  },
  {
   "cell_type": "markdown",
   "metadata": {},
   "source": [
    "Topic 2 I interpret to be about battles in France. What is going on between 1800 and 1804 in France that might make this topic increasingly popular over this time period?"
   ]
  },
  {
   "cell_type": "markdown",
   "metadata": {},
   "source": [
    "## LDA as dimensionality reduction\n",
    "\n",
    "Another use for topic modelling is to reduce the dimensionality of text. Instead of representing a document as a vector of token counts over the whole vocabulary (which may be very large), topic modelling can represent that document as a weighted average of _k_ topics over a finite number of (more or less) interpretable topics. The latter approach is usually more tractable for subsequent statistical analysis (linear regression, decision trees, transformers, etc). \n",
    "\n",
    "Now that we obtained a distribution of topic weights for each document, we can represent our corpus with a dense document-weight matrix as opposed to our initial sparse DTM. The weights can then replace tokens as features for any subsequent task (classification, prediction, etc). A simple example may consist in measuring cosine similarity between documents. For instance, which book is closest to the first book in our corpus? Let's use pairwise cosine similarity to find out. \n",
    "\n",
    "NB: cosine similarity measures an angle between two vectors, which provides a measure of distance robust to vectors of different lenghts (total number of tokens)\n",
    "\n",
    "First, let's turn the DTM into a readable dataframe."
   ]
  },
  {
   "cell_type": "code",
   "execution_count": null,
   "metadata": {},
   "outputs": [],
   "source": [
    "dtm = pd.DataFrame(tf_vectorizer.fit_transform(df_lit['text']).toarray(), columns=tf_vectorizer.get_feature_names(), index = df_lit.index)"
   ]
  },
  {
   "cell_type": "markdown",
   "metadata": {},
   "source": [
    "Next let's import the cosine_similarity function from sklearn and print the cosine similarity between the first and second book or the first and third book."
   ]
  },
  {
   "cell_type": "code",
   "execution_count": null,
   "metadata": {},
   "outputs": [],
   "source": [
    "from sklearn.metrics.pairwise import cosine_similarity\n",
    "print(\"Cosine similarity between first and second book: \" + str(cosine_similarity(dtm.iloc[0,:], dtm.iloc[1,:])))\n",
    "print(\"Cosine similarity between first and third book: \" + str(cosine_similarity(dtm.iloc[0,:], dtm.iloc[2,:])))\n"
   ]
  },
  {
   "cell_type": "markdown",
   "metadata": {},
   "source": [
    "What if we use the topic weights instead of word frequencies?"
   ]
  },
  {
   "cell_type": "code",
   "execution_count": null,
   "metadata": {},
   "outputs": [],
   "source": [
    "dwm = df_w_topics.iloc[:,:10]\n",
    "\n",
    "print(\"Cosine similarity between first and second book: \" + str(cosine_similarity(dwm.iloc[0,:], dwm.iloc[1,:])))\n",
    "print(\"Cosine similarity between first and third book: \" + str(cosine_similarity(dwm.iloc[0,:], dwm.iloc[2,:])))\n"
   ]
  },
  {
   "cell_type": "markdown",
   "metadata": {},
   "source": [
    "### Challenge\n",
    "\n",
    "Calculate the cosine similarity between the first book and all other books to identify the most similar one. "
   ]
  }
 ],
 "metadata": {
  "kernelspec": {
   "display_name": "Python 3",
   "language": "python",
   "name": "python3"
  },
  "language_info": {
   "codemirror_mode": {
    "name": "ipython",
    "version": 3
   },
   "file_extension": ".py",
   "mimetype": "text/x-python",
   "name": "python",
   "nbconvert_exporter": "python",
   "pygments_lexer": "ipython3",
   "version": "3.8.10"
  }
 },
 "nbformat": 4,
 "nbformat_minor": 1
}
